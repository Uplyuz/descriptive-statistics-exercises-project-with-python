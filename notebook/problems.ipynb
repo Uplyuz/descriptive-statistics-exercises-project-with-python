{
    "cells": [
        {
            "cell_type": "markdown",
            "id": "ac622319",
            "metadata": {},
            "source": [
                "# Descriptive statistics problems"
            ]
        },
        {
            "cell_type": "markdown",
            "id": "5e0ab0d5",
            "metadata": {},
            "source": [
                "### Exercise 1\n",
                "\n",
                "We will use NumPy to obtain information to describe statistically.\n",
                "\n",
                "- Generate an array of 100 elements following a normal distribution.\n",
                "- Generate an array of 100 elements following a chi-square distribution with 3 degrees of freedom.\n",
                "- Calculate the main metrics and statistical measures that best describe the two vectors."
            ]
        },
        {
            "cell_type": "code",
            "execution_count": 77,
            "id": "34720ab6",
            "metadata": {},
            "outputs": [],
            "source": [
                "# TODO\n",
                "import numpy as np\n",
                "import statistics as stats\n",
                "from scipy.stats import skew,kurtosis\n",
                "\n",
                "\n",
                "\n",
                "np.random.seed(0)\n",
                "\n",
                "normalDistribution=np.random.normal(size=100)\n",
                "\n",
                "chisquareDistribution=np.random.chisquare(df=3,size=100) #df -> degree of freedom\n",
                "\n",
                "normalMean=stats.mean(normalDistribution)\n",
                "normalMedian=stats.median(normalDistribution)\n",
                "normalRange=max(normalDistribution)-min(normalDistribution)\n",
                "normalVariance = stats.variance(normalDistribution)\n",
                "normalSTD = stats.stdev(normalDistribution)  #De aqui para arriba todo puede hacer con numpy, lo he hecho con statistics porque en los apuntes se usa\n",
                "normalSkew=skew(normalDistribution)\n",
                "normalKurto=kurtosis(normalDistribution)\n",
                "normalMode=stats.mode(normalDistribution)\n"
            ]
        },
        {
            "cell_type": "code",
            "execution_count": null,
            "id": "a4ff415d",
            "metadata": {},
            "outputs": [],
            "source": [
                "chiSquareMean=stats.mean(chisquareDistribution)\n",
                "chiSquareMedian=stats.median(chisquareDistribution)\n",
                "chiSquareRange=max(normalDistribution)-min(chisquareDistribution)\n",
                "chiSquareVariance = stats.variance(chisquareDistribution)\n",
                "chiSquareSTD = stats.stdev(chisquareDistribution)  \n",
                "chiSquareSkew=skew(chisquareDistribution)\n",
                "chiSquareKurto=kurtosis(chisquareDistribution)\n",
                "chiSquareMode=stats.mode(chisquareDistribution)"
            ]
        },
        {
            "cell_type": "markdown",
            "id": "46c70c3d",
            "metadata": {},
            "source": [
                "### Exercise 2\n",
                "\n",
                "Write a Python program to calculate the standard deviation of the following data:\n",
                "\n",
                "```py\n",
                "data = [4, 2, 5, 8, 6]\n",
                "```"
            ]
        },
        {
            "cell_type": "code",
            "execution_count": 78,
            "id": "d590308e",
            "metadata": {},
            "outputs": [
                {
                    "name": "stdout",
                    "output_type": "stream",
                    "text": [
                        "2.23606797749979\n"
                    ]
                }
            ],
            "source": [
                "# TODO\n",
                "\n",
                "import math\n",
                "\n",
                "\n",
                "def calcularstd(x):\n",
                "    media=0\n",
                "    total=0\n",
                "    j=0\n",
                "    n=len(x)\n",
                "\n",
                "    for value in x:\n",
                "        total+=value\n",
                "    \n",
                "    media=total/n\n",
                "\n",
                "    for value in x:\n",
                "        j+=(value-media)**2 \n",
                "\n",
                "    j=j/(n-1)\n",
                "\n",
                "    return math.sqrt(j)\n",
                "\n",
                "data = [4, 2, 5, 8, 6]\n",
                "\n",
                "print(calcularstd(data))\n",
                "\n",
                "\n",
                "\n",
                "\n",
                "\n"
            ]
        }
    ],
    "metadata": {
        "interpreter": {
            "hash": "9248718ffe6ce6938b217e69dbcc175ea21f4c6b28a317e96c05334edae734bb"
        },
        "kernelspec": {
            "display_name": "Python 3.9.12 ('ML-BOOTCAMP')",
            "language": "python",
            "name": "python3"
        },
        "language_info": {
            "codemirror_mode": {
                "name": "ipython",
                "version": 3
            },
            "file_extension": ".py",
            "mimetype": "text/x-python",
            "name": "python",
            "nbconvert_exporter": "python",
            "pygments_lexer": "ipython3",
            "version": "3.11.4"
        }
    },
    "nbformat": 4,
    "nbformat_minor": 5
}
